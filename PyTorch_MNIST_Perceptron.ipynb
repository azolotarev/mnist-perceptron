{
  "nbformat": 4,
  "nbformat_minor": 0,
  "metadata": {
    "colab": {
      "name": "PyTorch MNIST Perceptron.ipynb",
      "provenance": [],
      "collapsed_sections": []
    },
    "kernelspec": {
      "name": "python3",
      "display_name": "Python 3"
    },
    "accelerator": "GPU"
  },
  "cells": [
    {
      "cell_type": "markdown",
      "metadata": {
        "id": "SYigqbc3jMJc",
        "colab_type": "text"
      },
      "source": [
        "The MNIST database of handwritten digits, available from this page, has a training set of 60,000 examples, and a test set of 10,000 examples. It is a subset of a larger set available from NIST.\n",
        "\n",
        "The digits have been size-normalized and centered in a fixed-size image.\n",
        "\n",
        "http://yann.lecun.com/exdb/mnist/"
      ]
    },
    {
      "cell_type": "code",
      "metadata": {
        "id": "1BSGDx_VhoCn",
        "colab_type": "code",
        "colab": {}
      },
      "source": [
        "# !wget http://yann.lecun.com/exdb/mnist/train-images-idx3-ubyte.gz #train images\n",
        "# !wget http://yann.lecun.com/exdb/mnist/train-labels-idx1-ubyte.gz #train labels\n",
        "# !wget http://yann.lecun.com/exdb/mnist/t10k-images-idx3-ubyte.gz #test images\n",
        "# !wget http://yann.lecun.com/exdb/mnist/t10k-labels-idx1-ubyte.gz #test labels"
      ],
      "execution_count": 0,
      "outputs": []
    },
    {
      "cell_type": "code",
      "metadata": {
        "id": "44r0TOZHkroT",
        "colab_type": "code",
        "colab": {
          "base_uri": "https://localhost:8080/",
          "height": 68
        },
        "outputId": "326568dd-0f1a-469d-ef8a-55e4996fb3ed"
      },
      "source": [
        "!ls"
      ],
      "execution_count": 2,
      "outputs": [
        {
          "output_type": "stream",
          "text": [
            "sample_data\t\t   train-images-idx3-ubyte.gz\n",
            "t10k-images-idx3-ubyte.gz  train-labels-idx1-ubyte.gz\n",
            "t10k-labels-idx1-ubyte.gz\n"
          ],
          "name": "stdout"
        }
      ]
    },
    {
      "cell_type": "code",
      "metadata": {
        "id": "SRYDMmu-lS_9",
        "colab_type": "code",
        "colab": {
          "base_uri": "https://localhost:8080/",
          "height": 68
        },
        "outputId": "1adb1fed-c05b-44a3-f764-fdb75f629e35"
      },
      "source": [
        "!pip install idx2numpy"
      ],
      "execution_count": 3,
      "outputs": [
        {
          "output_type": "stream",
          "text": [
            "Requirement already satisfied: idx2numpy in /usr/local/lib/python3.6/dist-packages (1.2.2)\n",
            "Requirement already satisfied: numpy in /usr/local/lib/python3.6/dist-packages (from idx2numpy) (1.16.5)\n",
            "Requirement already satisfied: six in /usr/local/lib/python3.6/dist-packages (from idx2numpy) (1.12.0)\n"
          ],
          "name": "stdout"
        }
      ]
    },
    {
      "cell_type": "code",
      "metadata": {
        "id": "fCi2-iN7j3qM",
        "colab_type": "code",
        "colab": {
          "base_uri": "https://localhost:8080/",
          "height": 34
        },
        "outputId": "8fe61db6-2aff-4460-eb23-69c66039ba0e"
      },
      "source": [
        "import gzip, idx2numpy\n",
        "import numpy as np\n",
        "\n",
        "images_archive = gzip.open('train-images-idx3-ubyte.gz', 'r')\n",
        "labels_archive = gzip.open('train-labels-idx1-ubyte.gz', 'r')\n",
        "test_img_archive = gzip.open('t10k-images-idx3-ubyte.gz', 'r')\n",
        "test_lbl_archive = gzip.open('t10k-labels-idx1-ubyte.gz', 'r')\n",
        "\n",
        "images = idx2numpy.convert_from_file(images_archive)\n",
        "labels = idx2numpy.convert_from_file(labels_archive)\n",
        "test_images = idx2numpy.convert_from_file(test_img_archive)\n",
        "test_labels = idx2numpy.convert_from_file(test_lbl_archive)\n",
        "\n",
        "images.shape, labels.shape, test_images.shape, test_labels.shape"
      ],
      "execution_count": 4,
      "outputs": [
        {
          "output_type": "execute_result",
          "data": {
            "text/plain": [
              "((60000, 28, 28), (60000,), (10000, 28, 28), (10000,))"
            ]
          },
          "metadata": {
            "tags": []
          },
          "execution_count": 4
        }
      ]
    },
    {
      "cell_type": "code",
      "metadata": {
        "id": "N4sHGcsCmYRY",
        "colab_type": "code",
        "colab": {
          "base_uri": "https://localhost:8080/",
          "height": 281
        },
        "outputId": "7a891f24-45aa-44de-baaa-f39e0ce3b4f7"
      },
      "source": [
        "import matplotlib.pyplot as plt\n",
        "\n",
        "def plot_img(image, label):\n",
        "  plt.imshow(image)\n",
        "  plt.title(label)\n",
        "  plt.show()\n",
        "\n",
        "plot_img(images[0], labels[0])"
      ],
      "execution_count": 5,
      "outputs": [
        {
          "output_type": "display_data",
          "data": {
            "image/png": "[encoded data removed]",
            "text/plain": [
              "<Figure size 432x288 with 1 Axes>"
            ]
          },
          "metadata": {
            "tags": []
          }
        }
      ]
    },
    {
      "cell_type": "code",
      "metadata": {
        "id": "PPN4LhInkox6",
        "colab_type": "code",
        "colab": {
          "base_uri": "https://localhost:8080/",
          "height": 34
        },
        "outputId": "481f1f94-555a-4bf5-ce95-84b8708ababb"
      },
      "source": [
        "#splitting the data 80-20\n",
        "X_train = images[:48000]\n",
        "Y_train = labels[:48000]\n",
        "X_val = images[48000:]\n",
        "Y_val = labels[48000:]\n",
        "\n",
        "X_train.shape, Y_train.shape, X_val.shape, Y_val.shape"
      ],
      "execution_count": 6,
      "outputs": [
        {
          "output_type": "execute_result",
          "data": {
            "text/plain": [
              "((48000, 28, 28), (48000,), (12000, 28, 28), (12000,))"
            ]
          },
          "metadata": {
            "tags": []
          },
          "execution_count": 6
        }
      ]
    },
    {
      "cell_type": "code",
      "metadata": {
        "id": "VBCfO_5Uns0r",
        "colab_type": "code",
        "colab": {}
      },
      "source": [
        "from torch.utils.data import Dataset, DataLoader"
      ],
      "execution_count": 0,
      "outputs": []
    },
    {
      "cell_type": "code",
      "metadata": {
        "id": "Xq2-YW-noNTX",
        "colab_type": "code",
        "colab": {}
      },
      "source": [
        "class ImagesDataset(Dataset):\n",
        "  def __init__(self, X, Y):\n",
        "    self.X = X\n",
        "    self.Y = Y\n",
        "\n",
        "  def __len__(self):\n",
        "    return self.X.shape[0]\n",
        "\n",
        "  def __getitem__(self, i):\n",
        "    return (self.X[i], self.Y[i])"
      ],
      "execution_count": 0,
      "outputs": []
    },
    {
      "cell_type": "code",
      "metadata": {
        "id": "qwv-J8nSow0V",
        "colab_type": "code",
        "colab": {
          "base_uri": "https://localhost:8080/",
          "height": 826
        },
        "outputId": "6b7faf3c-cea2-4cbd-f10c-1eef9111b221"
      },
      "source": [
        "train = ImagesDataset(X_train, Y_train)\n",
        "val = ImagesDataset(X_val, Y_val)\n",
        "test = ImagesDataset(test_images, test_labels)\n",
        "\n",
        "#sanity check\n",
        "image_tr, label_tr = train[0]\n",
        "image_v, label_v = val[0]\n",
        "image_t, label_t = test[0]\n",
        "plot_img(image_tr, label_tr), plot_img(image_v, label_v), plot_img(image_t, label_t)\n",
        "len(train), len(val), len(test)"
      ],
      "execution_count": 9,
      "outputs": [
        {
          "output_type": "display_data",
          "data": {
            "image/png": "[encoded data removed]",
            "text/plain": [
              "<Figure size 432x288 with 1 Axes>"
            ]
          },
          "metadata": {
            "tags": []
          }
        },
        {
          "output_type": "display_data",
          "data": {
            "image/png": "[encoded data removed]",
            "text/plain": [
              "<Figure size 432x288 with 1 Axes>"
            ]
          },
          "metadata": {
            "tags": []
          }
        },
        {
          "output_type": "display_data",
          "data": {
            "image/png": "[encoded data removed]",
            "text/plain": [
              "<Figure size 432x288 with 1 Axes>"
            ]
          },
          "metadata": {
            "tags": []
          }
        },
        {
          "output_type": "execute_result",
          "data": {
            "text/plain": [
              "(48000, 12000, 10000)"
            ]
          },
          "metadata": {
            "tags": []
          },
          "execution_count": 9
        }
      ]
    },
    {
      "cell_type": "code",
      "metadata": {
        "id": "pLnnj0Dpp2Nk",
        "colab_type": "code",
        "colab": {}
      },
      "source": [
        "import torch\n",
        "import torch.nn as nn\n",
        "import torch.nn.functional as F\n",
        "from torch import optim"
      ],
      "execution_count": 0,
      "outputs": []
    },
    {
      "cell_type": "code",
      "metadata": {
        "id": "DL3_s32gpIyG",
        "colab_type": "code",
        "colab": {}
      },
      "source": [
        "class Perceptron(nn.Module):\n",
        "  def __init__(self):\n",
        "    super(Perceptron, self).__init__()\n",
        "    self.l1 = nn.Linear(784, 128)\n",
        "    self.l2 = nn.Linear(128, 10)\n",
        "\n",
        "  def forward(self, x):\n",
        "    x = x.view(-1, 784)\n",
        "    x = F.relu(self.l1(x))\n",
        "    x = self.l2(x)\n",
        "    return F.log_softmax(x, dim=-1)"
      ],
      "execution_count": 0,
      "outputs": []
    },
    {
      "cell_type": "code",
      "metadata": {
        "id": "s7-BemX8q4jx",
        "colab_type": "code",
        "colab": {}
      },
      "source": [
        "device = 'cuda'\n",
        "\n",
        "train_loader = DataLoader(train, batch_size=256, shuffle=True)\n",
        "eval_loader = DataLoader(val, batch_size=256, shuffle=True)\n",
        "test_loader = DataLoader(test, batch_size=256)\n",
        "\n",
        "model = Perceptron()\n",
        "optimizer = optim.Adam(model.parameters(), lr=1e-4)\n",
        "cel = nn.CrossEntropyLoss()\n",
        "\n",
        "if device == 'cuda':\n",
        "  model.cuda()"
      ],
      "execution_count": 0,
      "outputs": []
    },
    {
      "cell_type": "code",
      "metadata": {
        "id": "WOUo_mPGr9Lo",
        "colab_type": "code",
        "colab": {}
      },
      "source": [
        "def fit(epochs, lr):\n",
        "  optimizer.param_groups[0]['lr'] = lr\n",
        "\n",
        "  for epoch in range(1, epochs+1):\n",
        "    val_loss = 0\n",
        "\n",
        "    #train loop\n",
        "    model.train()\n",
        "    for batch_index, (x, y) in enumerate(train_loader):\n",
        "      x, y = x.float().to(device), y.long().to(device)\n",
        "      optimizer.zero_grad()\n",
        "      pred = model(x)\n",
        "      loss = cel(pred, y)\n",
        "      loss.backward()\n",
        "      optimizer.step()\n",
        "\n",
        "    #val loop\n",
        "    model.eval()\n",
        "    for batch_index, (x, y) in enumerate(eval_loader):\n",
        "      x, y = x.float().to(device), y.long().to(device)\n",
        "      pred = model(x)\n",
        "      val_loss += cel(pred, y)\n",
        "    \n",
        "    val_loss /= len(eval_loader.dataset)\n",
        "    print(f'epoch: {epoch};  loss:{round(loss.item(), 4)}\\t val_loss: {val_loss}')"
      ],
      "execution_count": 0,
      "outputs": []
    },
    {
      "cell_type": "code",
      "metadata": {
        "id": "k-Jl_fdpyJz1",
        "colab_type": "code",
        "colab": {
          "base_uri": "https://localhost:8080/",
          "height": 357
        },
        "outputId": "6afda1a9-d225-42c8-a6e6-178a82dc438f"
      },
      "source": [
        "fit(20, 1e-4)"
      ],
      "execution_count": 14,
      "outputs": [
        {
          "output_type": "stream",
          "text": [
            "epoch: 1;  loss:1.519\t val_loss: 0.00367001723498106\n",
            "epoch: 2;  loss:0.4735\t val_loss: 0.002418670104816556\n",
            "epoch: 3;  loss:0.364\t val_loss: 0.002012485871091485\n",
            "epoch: 4;  loss:0.4464\t val_loss: 0.0016612706240266562\n",
            "epoch: 5;  loss:0.2188\t val_loss: 0.0014832076849415898\n",
            "epoch: 6;  loss:0.2378\t val_loss: 0.0013677641982212663\n",
            "epoch: 7;  loss:0.3206\t val_loss: 0.0012829635525122285\n",
            "epoch: 8;  loss:0.1294\t val_loss: 0.0011960661504417658\n",
            "epoch: 9;  loss:0.0957\t val_loss: 0.0010984590044245124\n",
            "epoch: 10;  loss:0.0818\t val_loss: 0.0010549334110692143\n",
            "epoch: 11;  loss:0.0331\t val_loss: 0.00109203124884516\n",
            "epoch: 12;  loss:0.0936\t val_loss: 0.0010242668213322759\n",
            "epoch: 13;  loss:0.023\t val_loss: 0.0009749812306836247\n",
            "epoch: 14;  loss:0.1091\t val_loss: 0.0009910969529300928\n",
            "epoch: 15;  loss:0.0136\t val_loss: 0.0009686166886240244\n",
            "epoch: 16;  loss:0.0063\t val_loss: 0.0009504752233624458\n",
            "epoch: 17;  loss:0.0041\t val_loss: 0.0009413888910785317\n",
            "epoch: 18;  loss:0.0167\t val_loss: 0.0009257066412828863\n",
            "epoch: 19;  loss:0.0107\t val_loss: 0.0009370389743708074\n",
            "epoch: 20;  loss:0.0152\t val_loss: 0.0009480862645432353\n"
          ],
          "name": "stdout"
        }
      ]
    },
    {
      "cell_type": "code",
      "metadata": {
        "id": "tKPdDbAW7Y5s",
        "colab_type": "code",
        "colab": {
          "base_uri": "https://localhost:8080/",
          "height": 357
        },
        "outputId": "78837db2-aa35-4e8c-a795-1d6689d12dca"
      },
      "source": [
        "fit(20, 1e-6)"
      ],
      "execution_count": 15,
      "outputs": [
        {
          "output_type": "stream",
          "text": [
            "epoch: 1;  loss:0.0143\t val_loss: 0.000926080800127238\n",
            "epoch: 2;  loss:0.0043\t val_loss: 0.000920158694498241\n",
            "epoch: 3;  loss:0.0049\t val_loss: 0.0009189266129396856\n",
            "epoch: 4;  loss:0.0024\t val_loss: 0.000921910279430449\n",
            "epoch: 5;  loss:0.004\t val_loss: 0.0009173461585305631\n",
            "epoch: 6;  loss:0.0117\t val_loss: 0.0009156136657111347\n",
            "epoch: 7;  loss:0.0044\t val_loss: 0.0009147725068032742\n",
            "epoch: 8;  loss:0.0086\t val_loss: 0.0009139323956333101\n",
            "epoch: 9;  loss:0.0033\t val_loss: 0.0009149201796390116\n",
            "epoch: 10;  loss:0.0281\t val_loss: 0.0009127190569415689\n",
            "epoch: 11;  loss:0.0079\t val_loss: 0.0009130609687417746\n",
            "epoch: 12;  loss:0.0149\t val_loss: 0.0009145071962848306\n",
            "epoch: 13;  loss:0.0094\t val_loss: 0.0009145969524979591\n",
            "epoch: 14;  loss:0.0021\t val_loss: 0.000914936710614711\n",
            "epoch: 15;  loss:0.0061\t val_loss: 0.0009133730782195926\n",
            "epoch: 16;  loss:0.0113\t val_loss: 0.0009121760376729071\n",
            "epoch: 17;  loss:0.007\t val_loss: 0.0009136036969721317\n",
            "epoch: 18;  loss:0.0057\t val_loss: 0.0009120581089518964\n",
            "epoch: 19;  loss:0.0028\t val_loss: 0.0009121175389736891\n",
            "epoch: 20;  loss:0.0034\t val_loss: 0.0009150949190370739\n"
          ],
          "name": "stdout"
        }
      ]
    },
    {
      "cell_type": "code",
      "metadata": {
        "id": "u2hq0oiP_R4O",
        "colab_type": "code",
        "colab": {
          "base_uri": "https://localhost:8080/",
          "height": 34
        },
        "outputId": "83b7ddef-55c1-40b8-f6ca-726d164f4906"
      },
      "source": [
        "def test_model():\n",
        "  model.eval()\n",
        "  for batch_index, (x, y) in enumerate(test_loader):\n",
        "    x, y = x.float().to(device), y.long().to(device)\n",
        "\n",
        "    pred = model(x)\n",
        "    pred = torch.argmax(pred, -1)\n",
        "\n",
        "    #returns the matching values as bool, then sums them: True = 1, False = 0\n",
        "    #example: [True, False, False] = 1; [True, True, True] = 3\n",
        "    correct = torch.sum(pred==y) \n",
        "\n",
        "    #divide the number of correctly labeled digits by the total number of digits\n",
        "    #in the batch.\n",
        "    #example: 98 correctly labeled with batch_size=100 will result in: 98/100 = 0.98\n",
        "    pct_correct = correct/torch.tensor(test_loader.batch_size, dtype=torch.float32)\n",
        "\n",
        "    #append the result into the list for later calculations\n",
        "    if 'errors' in locals():\n",
        "      torch.stack((errors, pct_correct))\n",
        "    else:\n",
        "      errors = pct_correct\n",
        "\n",
        "  #calculate the mean accuracy\n",
        "  #example: [0.98, 0.95, 0.90, 0.95].mean() = 0.94\n",
        "  print(f'Model accuracy: {errors.mean().cpu().numpy()*100}%')\n",
        "\n",
        "test_model()"
      ],
      "execution_count": 16,
      "outputs": [
        {
          "output_type": "stream",
          "text": [
            "Model accuracy: 98.4375%\n"
          ],
          "name": "stdout"
        }
      ]
    }
  ]
}